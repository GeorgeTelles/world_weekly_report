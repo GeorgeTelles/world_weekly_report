{
  "cells": [
    {
      "cell_type": "markdown",
      "metadata": {
        "id": "view-in-github",
        "colab_type": "text"
      },
      "source": [
        "<a href=\"https://colab.research.google.com/github/GeorgeTelles/world_weekly_report/blob/main/world_weekly_report.ipynb\" target=\"_parent\"><img src=\"https://colab.research.google.com/assets/colab-badge.svg\" alt=\"Open In Colab\"/></a>"
      ]
    },
    {
      "cell_type": "markdown",
      "id": "d424c54a",
      "metadata": {
        "id": "d424c54a"
      },
      "source": [
        "<a href=\"https://postimg.cc/FYtnXpJw\">\n",
        "  <img src=\"https://i.postimg.cc/t470PmRR/logo-sem-fundo-01.png\" alt=\"logo\" width=\"300\">\n",
        "</a>"
      ]
    },
    {
      "cell_type": "markdown",
      "id": "41091996",
      "metadata": {
        "id": "41091996"
      },
      "source": [
        "---\n",
        "# **World Weekly Report**\n",
        "#### Relatório dos principais resultados de indices mundiais da semana\n",
        "---"
      ]
    },
    {
      "cell_type": "markdown",
      "id": "219c8538",
      "metadata": {
        "id": "219c8538"
      },
      "source": [
        "# 1. Bibliotecas"
      ]
    },
    {
      "cell_type": "code",
      "source": [
        "!pip install kaleido"
      ],
      "metadata": {
        "id": "CwbAN5Wd0SX4"
      },
      "id": "CwbAN5Wd0SX4",
      "execution_count": null,
      "outputs": []
    },
    {
      "cell_type": "code",
      "execution_count": null,
      "id": "1dd157a1",
      "metadata": {
        "id": "1dd157a1"
      },
      "outputs": [],
      "source": [
        "import numpy as np\n",
        "import pandas as pd\n",
        "\n",
        "from datetime import datetime, timedelta\n",
        "import pytz\n",
        "\n",
        "import yfinance as yf\n",
        "\n",
        "import kaleido\n",
        "import plotly.graph_objects as go\n",
        "from plotly.subplots import make_subplots"
      ]
    },
    {
      "cell_type": "markdown",
      "id": "1c690d35",
      "metadata": {
        "id": "1c690d35"
      },
      "source": [
        "# 2. Organizar datas da extração"
      ]
    },
    {
      "cell_type": "code",
      "execution_count": null,
      "id": "200e7d98",
      "metadata": {
        "id": "200e7d98"
      },
      "outputs": [],
      "source": [
        "#Data de Hoje\n",
        "hoje = datetime.now()\n",
        "print(f\"Hoje é: {hoje.date()}\")\n",
        "\n",
        "#Traz o dia da Semana\n",
        "print(f\"Hoje é o dia {hoje.weekday()} dessa semana\")\n",
        "\n",
        "#Traz a data de segunda-feira da semana atual\n",
        "segunda = hoje - timedelta(days = hoje.weekday())\n",
        "print(f\"A segunda feira desta semana foi dia: {segunda.date()}\")\n",
        "\n",
        "#Traz a data de inicio e final da semana\n",
        "data_inicio = segunda.date().strftime('%Y-%m-%d')\n",
        "data_final = (hoje.date() + timedelta(days = 2)).strftime('%Y-%m-%d')\n",
        "print(f\"Essa semana vai de {data_inicio} até {data_final}\")"
      ]
    },
    {
      "cell_type": "code",
      "execution_count": null,
      "id": "ac5fbccb",
      "metadata": {
        "id": "ac5fbccb"
      },
      "outputs": [],
      "source": [
        "def capa_post_weekly():\n",
        "\n",
        "    semana_ano = segunda.date().strftime('%U')\n",
        "    ano = segunda.date().strftime('%Y')\n",
        "\n",
        "    print('George Telles apresenta')\n",
        "    print('Weekly Report')\n",
        "    print(f'Semana {semana_ano} de {ano}')\n",
        "    print(f'{segunda.date().strftime(\"%d-%m\")} a {(segunda.date() + timedelta(days = 4)).strftime(\"%d-%m\")}')"
      ]
    },
    {
      "cell_type": "code",
      "execution_count": null,
      "id": "84441574",
      "metadata": {
        "id": "84441574"
      },
      "outputs": [],
      "source": [
        "capa_post_weekly()"
      ]
    },
    {
      "cell_type": "markdown",
      "id": "f5PKd6ymsE5L",
      "metadata": {
        "id": "f5PKd6ymsE5L"
      },
      "source": [
        "# 3. Índices internacionais"
      ]
    },
    {
      "cell_type": "markdown",
      "id": "2bf5964b",
      "metadata": {
        "id": "2bf5964b"
      },
      "source": [
        "## 3.1. Extração e manipulação dos dados"
      ]
    },
    {
      "cell_type": "code",
      "source": [
        "dict_yf_world_indices = {\n",
        "    'Bovespa (Brasil)': ['^BVSP','Brasil'],\n",
        "    'S&P 500 (EUA)': ['^GSPC', 'EUA'],\n",
        "    'Dow Jones 30 (EUA)': ['^DJI', 'EUA'],\n",
        "    'NASDAQ Composite (EUA)': ['^IXIC', 'EUA'],\n",
        "    'S&P/TSX Composite (Canadá)': ['^GSPTSE', 'Canadá'],\n",
        "    'S&P/BMV IPC (México)': ['^MXX', 'México'],\n",
        "    'S&P Merval (Argentina)': ['^MERV', 'Argentina'],\n",
        "    'Shanghai Composite (China)': ['000001.SS', 'China'],\n",
        "    'SZSE Component (China)': ['399001.SZ', 'China'],\n",
        "    'Nikkei 225 (Japão)': ['^N225', 'Japão'],\n",
        "    'Hang Seng (Hong Kong)': ['^HSI', 'Hong Kong'],\n",
        "    'BSE Sensex 30 (Índia)': ['^BSESN', 'Índia'],\n",
        "    'EuroNext 100 (Zona Euro)': ['^N100', 'Zona Euro'],\n",
        "    'DAX (Alemanha)': ['^GDAXI', 'Alemanha'],\n",
        "    'FTSE 100 (Reino Unido)': ['^FTSE', 'UK'],\n",
        "    'CAC 40 (França)': ['^FCHI', 'França'],\n",
        "    }\n",
        "\n",
        "df_yf_world_indices = pd.DataFrame.from_dict(dict_yf_world_indices, orient='index', columns=['Ticker_YF', 'Country'])\n",
        "df_yf_world_indices = df_yf_world_indices.reset_index()\n",
        "df_yf_world_indices = df_yf_world_indices.rename({'index':'Índice'}, axis=1)\n",
        "df_yf_world_indices"
      ],
      "metadata": {
        "id": "tnctgWisCpSO"
      },
      "id": "tnctgWisCpSO",
      "execution_count": null,
      "outputs": []
    },
    {
      "cell_type": "code",
      "execution_count": null,
      "id": "3d69869d",
      "metadata": {
        "id": "3d69869d"
      },
      "outputs": [],
      "source": [
        "world_ohlcv = pd.DataFrame()\n",
        "\n",
        "for i in df_yf_world_indices.Ticker_YF:\n",
        "\n",
        "    try:\n",
        "        ohlcv_indice = pd.DataFrame(yf.download(i, start=data_inicio, end=data_final, progress=False, interval=\"1d\"))\n",
        "        ohlcv_indice = ohlcv_indice.resample(\"W\").agg({\"Open\": \"first\", \"High\": \"max\", \"Low\": \"min\", \"Close\": \"last\"})\n",
        "        ohlcv_indice[\"Ticker_YF\"] = i\n",
        "        ohlcv_indice[\"Resultado_%\"] = (ohlcv_indice.Close/ohlcv_indice.Open - 1) * 100\n",
        "        world_ohlcv = pd.concat([world_ohlcv, ohlcv_indice], axis=0)\n",
        "\n",
        "    except:\n",
        "        pass"
      ]
    },
    {
      "cell_type": "code",
      "execution_count": null,
      "id": "e2efba73",
      "metadata": {
        "id": "e2efba73"
      },
      "outputs": [],
      "source": [
        "world_indices_result = pd.merge(df_yf_world_indices, world_ohlcv, on=\"Ticker_YF\", how=\"outer\")\n",
        "world_indices_result"
      ]
    },
    {
      "cell_type": "markdown",
      "id": "284c69f5",
      "metadata": {
        "id": "284c69f5"
      },
      "source": [
        "## 3.2. Figura dos resultados"
      ]
    },
    {
      "cell_type": "code",
      "execution_count": null,
      "id": "bb058575",
      "metadata": {
        "id": "bb058575"
      },
      "outputs": [],
      "source": [
        "df_fig = world_indices_result.sort_values(by=\"Resultado_%\", ascending=True)\n",
        "df_fig[\"Color\"] = np.where(df_fig[\"Resultado_%\"] < 0, \"red\", \"green\")\n",
        "df_fig"
      ]
    },
    {
      "cell_type": "code",
      "source": [
        "annotations = []\n",
        "x_pos = []\n",
        "y_pos = []\n",
        "x_neg = []\n",
        "y_neg = []\n",
        "\n",
        "for i in range(len(df_fig)):\n",
        "\n",
        "    if df_fig[\"Resultado_%\"].iloc[i] > 0:\n",
        "        y_pos.append(df_fig[\"Índice\"].iloc[i])\n",
        "        x_pos.append(np.round(df_fig[\"Resultado_%\"].iloc[i], decimals=2))\n",
        "    else:\n",
        "        y_neg.append(df_fig[\"Índice\"].iloc[i])\n",
        "        x_neg.append(np.round(df_fig[\"Resultado_%\"].iloc[i], decimals=2))\n",
        "\n",
        "eixo_range = max(list(np.abs(x_neg)) + x_pos)*1.25\n",
        "dist_barra = 2\n",
        "\n",
        "result_max = df_fig[\"Resultado_%\"].max() + eixo_range\n",
        "result_min = df_fig[\"Resultado_%\"].min() - eixo_range\n"
      ],
      "metadata": {
        "id": "vJxbxb7IsL01"
      },
      "id": "vJxbxb7IsL01",
      "execution_count": null,
      "outputs": []
    },
    {
      "cell_type": "markdown",
      "source": [
        "# Modelo 1"
      ],
      "metadata": {
        "id": "kAFNSQQumAv9"
      },
      "id": "kAFNSQQumAv9"
    },
    {
      "cell_type": "code",
      "execution_count": null,
      "id": "2b7be0d6",
      "metadata": {
        "id": "2b7be0d6"
      },
      "outputs": [],
      "source": [
        "fig_indices_results = go.Figure()\n",
        "\n",
        "fig_indices_results.add_trace(go.Bar(\n",
        "                        x=df_fig[\"Resultado_%\"],\n",
        "                        y=df_fig[\"Índice\"],\n",
        "                        marker_color=df_fig[\"Color\"],\n",
        "                        orientation=\"h\",\n",
        "                        )\n",
        "                    )\n",
        "\n",
        "for yd, xd in zip(y_pos, x_pos):\n",
        "    annotations.append(\n",
        "        dict(\n",
        "            xref=\"x1\",\n",
        "            yref=\"y1\",\n",
        "            y=yd,\n",
        "            x=xd + dist_barra,\n",
        "            text=str(xd) + \"%\",\n",
        "            font=dict(family=\"Arial\", size=17, color=\"black\"),\n",
        "            showarrow=False,\n",
        "        )\n",
        "    )\n",
        "\n",
        "for yd, xd in zip(y_neg, x_neg):\n",
        "    annotations.append(\n",
        "        dict(\n",
        "            xref=\"x1\",\n",
        "            yref=\"y1\",\n",
        "            y=yd,\n",
        "            x=xd - dist_barra,\n",
        "            text=str(xd) + \"%\",\n",
        "            font=dict(family=\"Arial\", size=17, color=\"black\"),\n",
        "            showarrow=False,\n",
        "        )\n",
        "    )\n",
        "\n",
        "fig_indices_results.update_xaxes(\n",
        "        visible=True,\n",
        "        showticklabels=True,\n",
        "        range=[(result_min), (result_max)],\n",
        "    )\n",
        "\n",
        "fig_indices_results = fig_indices_results.update_layout(\n",
        "        title_text=f\"<b>Resultado Semanal dos Índices Mundiais</b><br><sub>Resutados de {data_inicio} até {hoje.date()}</sub>\",\n",
        "        title_x=0.5,\n",
        "        template=\"simple_white\",\n",
        "        margin=dict(l=20, r=20, t=140, b=20),\n",
        "        paper_bgcolor=\"#f7f8fa\",\n",
        "        width=800,\n",
        "        height=(50 * len(df_fig)),\n",
        "        annotations=annotations,\n",
        "        font=dict(family=\"Arial\", size=17, color=\"black\"),\n",
        "    )\n",
        "\n",
        "fig_indices_results"
      ]
    },
    {
      "cell_type": "markdown",
      "source": [
        "#Modelo 2"
      ],
      "metadata": {
        "id": "hlKc8PpWqpJk"
      },
      "id": "hlKc8PpWqpJk"
    },
    {
      "cell_type": "code",
      "source": [
        "fig_indices_results = go.Figure()\n",
        "\n",
        "# Adiciona o gráfico de barras com cores neon\n",
        "fig_indices_results.add_trace(go.Bar(\n",
        "    x=df_fig[\"Resultado_%\"],\n",
        "    y=df_fig[\"Índice\"],\n",
        "    marker_color=df_fig[\"Resultado_%\"],\n",
        "    marker=dict(\n",
        "        color=df_fig[\"Resultado_%\"],\n",
        "        colorscale='Viridis',  # Paleta de cores neon\n",
        "        cmin=df_fig[\"Resultado_%\"].min(),\n",
        "        cmax=df_fig[\"Resultado_%\"].max(),\n",
        "        colorbar=None,\n",
        "    ),\n",
        "    orientation=\"h\",\n",
        "    text=df_fig[\"Resultado_%\"].apply(lambda x: f'{x:.2f}%'),\n",
        "    textposition='outside',  # Ajuste o texto fora da barra\n",
        "    textfont=dict(family=\"Arial\", size=14, color=\"white\"),\n",
        "    # Ajuste do espaçamento das barras\n",
        "    offset=-1\n",
        "))\n",
        "\n",
        "fig_indices_results.update_xaxes(\n",
        "    visible=True,\n",
        "    showticklabels=True,\n",
        "    range=[(result_min), (result_max)],\n",
        "    title_text='Resultado (%)',\n",
        "    title_font=dict(size=16, family=\"Arial\", color=\"white\"),\n",
        "    tickfont=dict(size=14, family=\"Arial\", color=\"white\"),\n",
        "    gridcolor='rgba(255,255,255,0.2)',  # Linhas de grade sutis\n",
        ")\n",
        "\n",
        "fig_indices_results.update_yaxes(\n",
        "    title_text='Índice',\n",
        "    title_font=dict(size=16, family=\"Arial\", color=\"white\"),\n",
        "    tickfont=dict(size=14, family=\"Arial\", color=\"white\"),\n",
        "    gridcolor='rgba(255,255,255,0.2)',  # Linhas de grade sutis\n",
        ")\n",
        "\n",
        "fig_indices_results = fig_indices_results.update_layout(\n",
        "    title=dict(\n",
        "        text=f\"<b>Resultado Semanal dos Índices Mundiais</b><br><sub>Resultados de {data_inicio} até {hoje.date()}</sub>\",\n",
        "        font=dict(size=22, family=\"Arial\", color=\"white\"),\n",
        "        x=0.5,\n",
        "        xanchor='center',\n",
        "        yanchor='top'\n",
        "    ),\n",
        "    title_pad=dict(t=60),\n",
        "    template=\"plotly_dark\",  # Muda o template para fundo escuro\n",
        "    margin=dict(l=250, r=30, t=140, b=40),\n",
        "    paper_bgcolor=\"#0f0f0f\",  # Fundo escuro para um visual neon\n",
        "    plot_bgcolor=\"#0f0f0f\",  # Fundo do gráfico escuro\n",
        "    width=900,\n",
        "    height=(50 * len(df_fig)),\n",
        "    # annotations=annotations,  # Descomentar se usar anotações manuais\n",
        "    font=dict(family=\"Arial\", size=16, color=\"white\"),\n",
        ")\n",
        "\n",
        "fig_indices_results.show()\n"
      ],
      "metadata": {
        "id": "VMeONN1omKSW"
      },
      "id": "VMeONN1omKSW",
      "execution_count": null,
      "outputs": []
    },
    {
      "cell_type": "markdown",
      "source": [
        "#Modelo 3"
      ],
      "metadata": {
        "id": "5-W28-_nqcVF"
      },
      "id": "5-W28-_nqcVF"
    },
    {
      "cell_type": "code",
      "source": [
        "import plotly.graph_objects as go\n",
        "import numpy as np\n",
        "\n",
        "fig_indices_results = go.Figure()\n",
        "\n",
        "# Função para definir a cor das barras com base no valor\n",
        "def get_bar_color(value):\n",
        "    if value >= 0:\n",
        "        return 'rgba(46,204,113,1)'  # Verde neon para valores positivos\n",
        "    else:\n",
        "        return 'rgba(231,76,60,1)'  # Vermelho neon para valores negativos\n",
        "\n",
        "# Adiciona o gráfico de barras com cores neon personalizadas\n",
        "fig_indices_results.add_trace(go.Bar(\n",
        "    x=df_fig[\"Resultado_%\"],\n",
        "    y=df_fig[\"Índice\"],\n",
        "    marker_color=df_fig[\"Resultado_%\"].apply(get_bar_color),\n",
        "    orientation=\"h\",\n",
        "    text=df_fig[\"Resultado_%\"].apply(lambda x: f'{x:.2f}%'),\n",
        "    textposition='outside',  # Ajuste o texto fora da barra\n",
        "    textfont=dict(family=\"Arial\", size=14, color=\"white\"),\n",
        "    # Ajuste do espaçamento das barras\n",
        "    offset=-1\n",
        "))\n",
        "\n",
        "# Atualiza os eixos x\n",
        "fig_indices_results.update_xaxes(\n",
        "    visible=True,\n",
        "    showticklabels=True,\n",
        "    range=[(result_min), (result_max)],\n",
        "    title_text='Resultado (%)',\n",
        "    title_font=dict(size=16, family=\"Arial\", color=\"white\"),\n",
        "    tickfont=dict(size=14, family=\"Arial\", color=\"white\"),\n",
        "    gridcolor='rgba(255,255,255,0.2)',  # Linhas de grade sutis\n",
        ")\n",
        "\n",
        "# Atualiza os eixos y\n",
        "fig_indices_results.update_yaxes(\n",
        "    title_text='Índice',\n",
        "    title_font=dict(size=16, family=\"Arial\", color=\"white\"),\n",
        "    tickfont=dict(size=14, family=\"Arial\", color=\"white\"),\n",
        "    gridcolor='rgba(255,255,255,0.2)',\n",
        "    automargin=True,\n",
        ")\n",
        "\n",
        "# Atualiza o layout\n",
        "fig_indices_results = fig_indices_results.update_layout(\n",
        "    title=dict(\n",
        "        text=f\"<b>Resultado Semanal dos Índices Mundiais</b><br><sub>Resultados de {data_inicio} até {hoje.date()}</sub>\",\n",
        "        font=dict(size=22, family=\"Arial\", color=\"white\"),\n",
        "        x=0.5,\n",
        "        xanchor='center',\n",
        "        yanchor='top'\n",
        "    ),\n",
        "    title_pad=dict(t=60),\n",
        "    template=\"plotly_dark\",  # Muda o template para fundo escuro\n",
        "    margin=dict(l=250, r=30, t=140, b=40),\n",
        "    paper_bgcolor=\"#0f0f0f\",  # Fundo escuro para um visual neon\n",
        "    plot_bgcolor=\"#0f0f0f\",  # Fundo do gráfico escuro\n",
        "    width=900,\n",
        "    height=(50 * len(df_fig)),\n",
        "    font=dict(family=\"Arial\", size=16, color=\"white\"),\n",
        ")\n",
        "\n",
        "fig_indices_results.show()\n"
      ],
      "metadata": {
        "id": "MxSVplYRn81d"
      },
      "id": "MxSVplYRn81d",
      "execution_count": null,
      "outputs": []
    },
    {
      "cell_type": "code",
      "execution_count": null,
      "id": "ed468ed5",
      "metadata": {
        "id": "ed468ed5"
      },
      "outputs": [],
      "source": [
        "fig_indices_results.write_image(\"fig_internacional.png\",  width=800, height=1000, scale=5)"
      ]
    },
    {
      "cell_type": "code",
      "execution_count": null,
      "id": "d8c60c9e",
      "metadata": {
        "id": "d8c60c9e"
      },
      "outputs": [],
      "source": [
        "fig_indices_results.write_html(\"fig_internacional.html\")"
      ]
    }
  ],
  "metadata": {
    "colab": {
      "provenance": [],
      "include_colab_link": true
    },
    "kernelspec": {
      "display_name": "Python 3.9.7 ('base')",
      "language": "python",
      "name": "python3"
    },
    "language_info": {
      "codemirror_mode": {
        "name": "ipython",
        "version": 3
      },
      "file_extension": ".py",
      "mimetype": "text/x-python",
      "name": "python",
      "nbconvert_exporter": "python",
      "pygments_lexer": "ipython3",
      "version": "3.10.10"
    },
    "vscode": {
      "interpreter": {
        "hash": "e06b40c6137042d8892c2eda6f37a8f74933dd747fa61ea5f8a3936389984de1"
      }
    }
  },
  "nbformat": 4,
  "nbformat_minor": 5
}